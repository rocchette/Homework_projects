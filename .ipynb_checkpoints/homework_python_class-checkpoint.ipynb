{
 "cells": [
  {
   "cell_type": "code",
   "execution_count": 54,
   "id": "9eb52bcd",
   "metadata": {},
   "outputs": [],
   "source": [
    "class Pie:\n",
    "    def __init__(self,taste,topping):\n",
    "        self.taste=taste\n",
    "        self.topping=topping\n",
    "    \n",
    "    def print_info(self):\n",
    "        print(\"Taste: {}\".format(self.taste))\n",
    "        print(\"Topping: {}\".format(self.topping))\n",
    "        \n",
    "    def bake(self):\n",
    "        print(\"The pie is baked.\")\n",
    "        \n",
    "    def eat(self):\n",
    "        print(\"The pie is eaten.\")"
   ]
  },
  {
   "cell_type": "code",
   "execution_count": 55,
   "id": "dc0cf7bd",
   "metadata": {},
   "outputs": [],
   "source": [
    "class Delicious(Pie):\n",
    "        \n",
    "    def share(self,friend):\n",
    "        self.friend=friend\n",
    "        print(\"The pie is delicious! I'll share it with {}.\".format(self.friend))"
   ]
  },
  {
   "cell_type": "code",
   "execution_count": 56,
   "id": "02b06b94",
   "metadata": {},
   "outputs": [],
   "source": [
    "pie_1=Pie(\"Cherry\",\"Ice-cream\")"
   ]
  },
  {
   "cell_type": "code",
   "execution_count": 57,
   "id": "a4f117b9",
   "metadata": {},
   "outputs": [
    {
     "name": "stdout",
     "output_type": "stream",
     "text": [
      "Taste: Cherry\n",
      "Topping: Ice-cream\n"
     ]
    }
   ],
   "source": [
    "pie_1.print_info()"
   ]
  },
  {
   "cell_type": "code",
   "execution_count": 58,
   "id": "5d175a2c",
   "metadata": {},
   "outputs": [
    {
     "name": "stdout",
     "output_type": "stream",
     "text": [
      "The pie is baked.\n"
     ]
    }
   ],
   "source": [
    "pie_1.bake()"
   ]
  },
  {
   "cell_type": "code",
   "execution_count": 59,
   "id": "81fe2ce1",
   "metadata": {},
   "outputs": [
    {
     "name": "stdout",
     "output_type": "stream",
     "text": [
      "The pie is eaten.\n"
     ]
    }
   ],
   "source": [
    "pie_1.eat()"
   ]
  },
  {
   "cell_type": "code",
   "execution_count": 60,
   "id": "bf259d15",
   "metadata": {},
   "outputs": [
    {
     "data": {
      "text/plain": [
       "('Cherry', 'Ice-cream')"
      ]
     },
     "execution_count": 60,
     "metadata": {},
     "output_type": "execute_result"
    }
   ],
   "source": [
    "pie_1.taste, pie_1.topping"
   ]
  },
  {
   "cell_type": "code",
   "execution_count": 70,
   "id": "78376afd",
   "metadata": {},
   "outputs": [],
   "source": [
    "pie_2=Delicious(\"Carrot\",\"Whipping cream\")"
   ]
  },
  {
   "cell_type": "code",
   "execution_count": 71,
   "id": "f487e7f2",
   "metadata": {},
   "outputs": [
    {
     "name": "stdout",
     "output_type": "stream",
     "text": [
      "The pie is delicious! I'll share it with Kate.\n"
     ]
    }
   ],
   "source": [
    "pie_2.share(\"Kate\")"
   ]
  },
  {
   "cell_type": "code",
   "execution_count": null,
   "id": "7a280603",
   "metadata": {},
   "outputs": [],
   "source": []
  }
 ],
 "metadata": {
  "kernelspec": {
   "display_name": "Python 3 (ipykernel)",
   "language": "python",
   "name": "python3"
  },
  "language_info": {
   "codemirror_mode": {
    "name": "ipython",
    "version": 3
   },
   "file_extension": ".py",
   "mimetype": "text/x-python",
   "name": "python",
   "nbconvert_exporter": "python",
   "pygments_lexer": "ipython3",
   "version": "3.9.12"
  }
 },
 "nbformat": 4,
 "nbformat_minor": 5
}
